{
  "nbformat": 4,
  "nbformat_minor": 0,
  "metadata": {
    "colab": {
      "name": "string_to_solved_expression.ipynb",
      "provenance": [],
      "collapsed_sections": [],
      "authorship_tag": "ABX9TyP1IanwNoMD1iJcSn/chVbw",
      "include_colab_link": true
    },
    "kernelspec": {
      "name": "python3",
      "display_name": "Python 3"
    },
    "language_info": {
      "name": "python"
    }
  },
  "cells": [
    {
      "cell_type": "markdown",
      "metadata": {
        "id": "view-in-github",
        "colab_type": "text"
      },
      "source": [
        "<a href=\"https://colab.research.google.com/github/klara0036505959/Mini-PhotoMath/blob/main/jupyter_notebooks/string_to_solved_expression.ipynb\" target=\"_parent\"><img src=\"https://colab.research.google.com/assets/colab-badge.svg\" alt=\"Open In Colab\"/></a>"
      ]
    },
    {
      "cell_type": "code",
      "source": [
        "class Conversion:\n",
        "\n",
        "\tdef __init__(self, capacity):\n",
        "\t\tself.top = -1\n",
        "\t\tself.capacity = capacity\n",
        "\t\tself.array = []\n",
        "\t\tself.output = []\n",
        "\t\tself.precedence = {'+':1, '-':1, '*':2, '/':2, '^':3}\n",
        "\t\n",
        "\tdef isEmpty(self):\n",
        "\t\treturn True if self.top == -1 else False\n",
        "\t\n",
        "\tdef peek(self):\n",
        "\t\treturn self.array[-1]\n",
        "\t\n",
        "\tdef pop(self):\n",
        "\t\tif not self.isEmpty():\n",
        "\t\t\tself.top -= 1\n",
        "\t\t\treturn self.array.pop()\n",
        "\t\telse:\n",
        "\t\t\treturn \"$\"\n",
        "\n",
        "\tdef push(self, op):\n",
        "\t\tself.top += 1\n",
        "\t\tself.array.append(op)\n",
        "\n",
        "\tdef isOperand(self, ch):\n",
        "\t\treturn ch not in {\"+\", \"-\", \"*\", \"/\", \"(\", \")\"}\n",
        "\n",
        "\tdef notGreater(self, i):\n",
        "\t\ttry:\n",
        "\t\t\ta = self.precedence[i]\n",
        "\t\t\tb = self.precedence[self.peek()]\n",
        "\t\t\treturn True if a <= b else False\n",
        "\t\texcept KeyError:\n",
        "\t\t\treturn False\n",
        "\n",
        "\tdef infixToPostfix(self, exp):\t\t\n",
        "\t\tfor i in exp.split(' '):\n",
        "\t\t\tif self.isOperand(i):\n",
        "\t\t\t\tself.output.append(i)\n",
        "\t\t\t\n",
        "\t\t\telif i == '(':\n",
        "\t\t\t\tself.push(i)\n",
        "    \n",
        "\t\t\telif i == ')':\n",
        "\t\t\t\twhile( (not self.isEmpty()) and\n",
        "\t\t\t\t\t\t\t\tself.peek() != '('):\n",
        "\t\t\t\t\ta = self.pop()\n",
        "\t\t\t\t\tself.output.append(a)\n",
        "\t\t\t\tif (not self.isEmpty() and self.peek() != '('):\n",
        "\t\t\t\t\treturn -1\n",
        "\t\t\t\telse:\n",
        "\t\t\t\t\tself.pop()\n",
        "\n",
        "\t\t\telse:\n",
        "\t\t\t\twhile(not self.isEmpty() and self.notGreater(i)):\n",
        "\t\t\t\t\tself.output.append(self.pop())\n",
        "\t\t\t\tself.push(i)\n",
        "\n",
        "\t\twhile not self.isEmpty():\n",
        "\t\t\tself.output.append(self.pop())\n",
        "\n",
        "\t\treturn (\" \".join(self.output))"
      ],
      "metadata": {
        "id": "BFEwC18l6TSI"
      },
      "execution_count": 1,
      "outputs": []
    },
    {
      "cell_type": "code",
      "source": [
        "class evalpostfix:\n",
        "\tdef __init__(self):\n",
        "\t\tself.stack =[]\n",
        "\t\tself.top =-1\n",
        "\tdef pop(self):\n",
        "\t\tif self.top ==-1:\n",
        "\t\t\treturn\n",
        "\t\telse:\n",
        "\t\t\tself.top-= 1\n",
        "\t\t\treturn self.stack.pop()\n",
        "\tdef push(self, i):\n",
        "\t\tself.top+= 1\n",
        "\t\tself.stack.append(i)\n",
        "\n",
        "\tdef centralfunc(self, ab):\n",
        "\t\tfor i in ab.split(' '):\n",
        "\t\t\ttry:\n",
        "\t\t\t\tself.push(int(i))\n",
        "\t\t\texcept ValueError:\n",
        "\t\t\t\tval1 = self.pop()\n",
        "\t\t\t\tval2 = self.pop()\n",
        "\t\t\t\tswitcher ={'+':val2 + val1, '-':val2-val1, '*':val2 * val1, '/':val2 / val1, '^':val2**val1}\n",
        "\t\t\t\tself.push(switcher.get(i))\n",
        "\t\treturn int(self.pop())\n"
      ],
      "metadata": {
        "id": "FlW0Y_HDALMh"
      },
      "execution_count": 2,
      "outputs": []
    },
    {
      "cell_type": "code",
      "source": [
        "#imamo problem za negativne brojeve\n",
        "#fixat cemo provjerom je li minus u sredini izmedu dva broja ili izmedu operatora- sto ne valja\n",
        "def fix_neg_numbers(str1):\n",
        "  final = str1\n",
        "  for i in range(0, len(str1)-1):\n",
        "    if (str1[i] == \"-\"):\n",
        "      if (i == 0 or str1[i-2] in {\"+\", \"-\", \"*\", \"/\", \"(\", \")\"}):\n",
        "        str1 = str1[:i+1] + \"&\" + str1[i+2:]\n",
        "  return str1.replace(\"&\", \"\")"
      ],
      "metadata": {
        "id": "JZ4pz5tZB_B7"
      },
      "execution_count": 3,
      "outputs": []
    },
    {
      "cell_type": "code",
      "source": [
        "string = \"( - 5 * ( 4 - 12 ) ) * 2 - 6\"\n",
        "string = fix_neg_numbers(string)\n",
        "obj = Conversion(len(string))\n",
        "string = obj.infixToPostfix(string)\n",
        "obj = evalpostfix()\n",
        "print(obj.centralfunc(string))"
      ],
      "metadata": {
        "colab": {
          "base_uri": "https://localhost:8080/"
        },
        "id": "TqfVKV246z1e",
        "outputId": "09875393-81c9-40b8-c2e8-97b278e81dde"
      },
      "execution_count": 7,
      "outputs": [
        {
          "output_type": "stream",
          "name": "stdout",
          "text": [
            "74\n"
          ]
        }
      ]
    }
  ]
}